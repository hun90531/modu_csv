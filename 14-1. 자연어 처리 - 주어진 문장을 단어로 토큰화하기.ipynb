{
 "cells": [
  {
   "cell_type": "code",
   "execution_count": 1,
   "id": "1221eed9",
   "metadata": {},
   "outputs": [],
   "source": [
    "# 문장을 단어 단위로 토큰화 시켜주는 함수\n",
    "from tensorflow.keras.preprocessing.text import text_to_word_sequence\n",
    "\n",
    "# 단어의 빈도수를 계산하기 위한 라이브러리\n",
    "from tensorflow.keras.preprocessing.text import Tokenizer"
   ]
  },
  {
   "cell_type": "code",
   "execution_count": 2,
   "id": "787efe25",
   "metadata": {},
   "outputs": [
    {
     "data": {
      "text/plain": [
       "['해보지', '않으면', '해낼', '수', '없다']"
      ]
     },
     "execution_count": 2,
     "metadata": {},
     "output_type": "execute_result"
    }
   ],
   "source": [
    "text = '해보지 않으면 해낼 수 없다'\n",
    "\n",
    "result = text_to_word_sequence(text)\n",
    "result"
   ]
  },
  {
   "cell_type": "code",
   "execution_count": 3,
   "id": "7eff9e7d",
   "metadata": {},
   "outputs": [],
   "source": [
    "docs = ['먼저 텍스트의 각 단어를 나누어 토큰화 합니다.',\n",
    "       '텍스트의 단어로 토큰화 해야 딥러닝에서 인식됩니다.',\n",
    "       '토큰화 한 결과는 딥러닝에서 사용할 수 있습니다.']"
   ]
  },
  {
   "cell_type": "code",
   "execution_count": 4,
   "id": "7910dc5a",
   "metadata": {},
   "outputs": [],
   "source": [
    "# 문장에서 각 단어의 빈도수 계산\n",
    "\n",
    "token = Tokenizer() # 토큰화 함수 지정\n",
    "token.fit_on_texts(docs) # 토큰화할 문장 적용"
   ]
  },
  {
   "cell_type": "code",
   "execution_count": 5,
   "id": "57d940b9",
   "metadata": {},
   "outputs": [
    {
     "data": {
      "text/plain": [
       "OrderedDict([('먼저', 1),\n",
       "             ('텍스트의', 2),\n",
       "             ('각', 1),\n",
       "             ('단어를', 1),\n",
       "             ('나누어', 1),\n",
       "             ('토큰화', 3),\n",
       "             ('합니다', 1),\n",
       "             ('단어로', 1),\n",
       "             ('해야', 1),\n",
       "             ('딥러닝에서', 2),\n",
       "             ('인식됩니다', 1),\n",
       "             ('한', 1),\n",
       "             ('결과는', 1),\n",
       "             ('사용할', 1),\n",
       "             ('수', 1),\n",
       "             ('있습니다', 1)])"
      ]
     },
     "execution_count": 5,
     "metadata": {},
     "output_type": "execute_result"
    }
   ],
   "source": [
    "token.word_counts # 각 단어의 빈도수 구하기"
   ]
  },
  {
   "cell_type": "code",
   "execution_count": 6,
   "id": "49438d33",
   "metadata": {},
   "outputs": [
    {
     "data": {
      "text/plain": [
       "defaultdict(int,\n",
       "            {'나누어': 1,\n",
       "             '단어를': 1,\n",
       "             '토큰화': 3,\n",
       "             '합니다': 1,\n",
       "             '각': 1,\n",
       "             '텍스트의': 2,\n",
       "             '먼저': 1,\n",
       "             '단어로': 1,\n",
       "             '딥러닝에서': 2,\n",
       "             '인식됩니다': 1,\n",
       "             '해야': 1,\n",
       "             '사용할': 1,\n",
       "             '결과는': 1,\n",
       "             '있습니다': 1,\n",
       "             '한': 1,\n",
       "             '수': 1})"
      ]
     },
     "execution_count": 6,
     "metadata": {},
     "output_type": "execute_result"
    }
   ],
   "source": [
    "token.word_docs # 각 단어들이 몇 개의 문장에 나오는지 확인하기"
   ]
  },
  {
   "cell_type": "code",
   "execution_count": 7,
   "id": "51938511",
   "metadata": {},
   "outputs": [
    {
     "data": {
      "text/plain": [
       "{'토큰화': 1,\n",
       " '텍스트의': 2,\n",
       " '딥러닝에서': 3,\n",
       " '먼저': 4,\n",
       " '각': 5,\n",
       " '단어를': 6,\n",
       " '나누어': 7,\n",
       " '합니다': 8,\n",
       " '단어로': 9,\n",
       " '해야': 10,\n",
       " '인식됩니다': 11,\n",
       " '한': 12,\n",
       " '결과는': 13,\n",
       " '사용할': 14,\n",
       " '수': 15,\n",
       " '있습니다': 16}"
      ]
     },
     "execution_count": 7,
     "metadata": {},
     "output_type": "execute_result"
    }
   ],
   "source": [
    "token.word_index # 각 단어에 인덱스를 부여하고 인덱스 값을 출력 - 인덱스 부여 관련은 뒷 부분 참고"
   ]
  }
 ],
 "metadata": {
  "kernelspec": {
   "display_name": "kernel-mypy",
   "language": "python",
   "name": "mypy"
  },
  "language_info": {
   "codemirror_mode": {
    "name": "ipython",
    "version": 3
   },
   "file_extension": ".py",
   "mimetype": "text/x-python",
   "name": "python",
   "nbconvert_exporter": "python",
   "pygments_lexer": "ipython3",
   "version": "3.8.8"
  }
 },
 "nbformat": 4,
 "nbformat_minor": 5
}
