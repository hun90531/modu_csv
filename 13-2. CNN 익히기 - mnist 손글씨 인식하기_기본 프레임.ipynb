{
 "cells": [
  {
   "cell_type": "code",
   "execution_count": 1,
   "id": "9d491de0",
   "metadata": {},
   "outputs": [],
   "source": [
    "from tensorflow.keras.datasets import mnist\n",
    "\n",
    "from tensorflow.keras.utils import to_categorical\n",
    "from tensorflow.keras.models import Sequential\n",
    "from tensorflow.keras.layers import Dense\n",
    "from tensorflow.keras.callbacks import ModelCheckpoint, EarlyStopping\n",
    "\n",
    "import tensorflow as tf\n",
    "import numpy as np\n",
    "import matplotlib.pyplot as plt\n",
    "import os"
   ]
  },
  {
   "cell_type": "code",
   "execution_count": 2,
   "id": "6d13e542",
   "metadata": {},
   "outputs": [],
   "source": [
    "(x_train, y_train), (x_test, y_test) = mnist.load_data()"
   ]
  },
  {
   "cell_type": "code",
   "execution_count": 3,
   "id": "3ea022a2",
   "metadata": {},
   "outputs": [
    {
     "name": "stdout",
     "output_type": "stream",
     "text": [
      "(60000, 28, 28) (10000, 28, 28)\n"
     ]
    }
   ],
   "source": [
    "print(x_train.shape, x_test.shape)\n",
    "\n",
    "# 28 * 28 형태의 2차원 이미지를 784개의 1차원 형태로 변환 후\n",
    "# 0 ~ 255 값으로 표시된 픽셀을 0 ~ 1로 변환\n",
    "x_train = x_train.reshape(x_train.shape[0], 784).astype('float') / 255\n",
    "x_test = x_test.reshape(x_test.shape[0], 784).astype('float') / 255"
   ]
  },
  {
   "cell_type": "code",
   "execution_count": 4,
   "id": "247d0aa9",
   "metadata": {},
   "outputs": [],
   "source": [
    "# 하나만 1이고 나머지는 모두 0인 상태로 만들어주는 원핫 인코딩\n",
    "y_train = to_categorical(y_train, 10)\n",
    "y_test = to_categorical(y_test, 10)"
   ]
  },
  {
   "cell_type": "code",
   "execution_count": 5,
   "id": "ea3d309e",
   "metadata": {},
   "outputs": [
    {
     "data": {
      "text/plain": [
       "array([0., 0., 0., 0., 0., 1., 0., 0., 0., 0.], dtype=float32)"
      ]
     },
     "execution_count": 5,
     "metadata": {},
     "output_type": "execute_result"
    }
   ],
   "source": [
    "y_train[0] # 결과 하나에 10개의 값이 들어있는 것을 확인할 수 있다."
   ]
  },
  {
   "cell_type": "code",
   "execution_count": 6,
   "id": "7e4b39e4",
   "metadata": {},
   "outputs": [],
   "source": [
    "model = Sequential()\n",
    "model.add(Dense(512, input_dim=784, activation='relu')) # 입력 하나에 784개의 픽셀\n",
    "model.add(Dense(10, activation='softmax')) # 결과 하나에 10개의 값이므로 노드는 10으로 설정\n",
    "\n",
    "model.compile(loss = 'categorical_crossentropy',\n",
    "             optimizer = 'adam',\n",
    "             metrics = ['accuracy'] # 평가 기준\n",
    "             )"
   ]
  },
  {
   "cell_type": "code",
   "execution_count": 7,
   "id": "b1221d17",
   "metadata": {},
   "outputs": [],
   "source": [
    "MODEL_DIR = 'models/mnist/'\n",
    "if not os.path.exists(MODEL_DIR):\n",
    "    os.mkdir(MODEL_DIR)"
   ]
  },
  {
   "cell_type": "code",
   "execution_count": 8,
   "id": "e0ebf7d0",
   "metadata": {},
   "outputs": [],
   "source": [
    "modelpath = 'models/mnist/{epoch:02d}-{val_loss:.4f}.hdf5'\n",
    "\n",
    "# ModelCheckpoint() : 모델 저장을 위한 함수\n",
    "# 오차는 케라스 내부에서 val_loss라고 저장되는데,\n",
    "# 모니터할 값을 val_loss라고 지정하는 것\n",
    "# save_best_only 옵션을 통해 앞서 저장한 모델보다 나아졌을 때만 저장\n",
    "checkpointer = ModelCheckpoint(filepath=modelpath, monitor='val_loss', verbose=1, save_best_only=True)\n",
    "\n",
    "\n",
    "# 너무 많은 epochs는 과적함을 일으키고 너무 적은 epochs는 학습 부족 현상을 일으키는데,\n",
    "# epochs를 일단 많이 돌린 후, 특정 시점에서 멈춰주는 함수가 EarlyStopping()\n",
    "\n",
    "# patience 속성은 기준이 되는 val_loss 값이 연속으로 몇 번 이상 향상되지 않을 때\n",
    "# 학습을 종료할 것인지 정하는 속성\n",
    "early_stopping_calllback = EarlyStopping(monitor='val_loss', patience=3)"
   ]
  },
  {
   "cell_type": "code",
   "execution_count": 9,
   "id": "a756b467",
   "metadata": {},
   "outputs": [
    {
     "name": "stdout",
     "output_type": "stream",
     "text": [
      "\n",
      "Epoch 00001: val_loss improved from inf to 0.10770, saving model to models/mnist\\01-0.1077.hdf5\n",
      "\n",
      "Epoch 00002: val_loss improved from 0.10770 to 0.08374, saving model to models/mnist\\02-0.0837.hdf5\n",
      "\n",
      "Epoch 00003: val_loss did not improve from 0.08374\n",
      "\n",
      "Epoch 00004: val_loss improved from 0.08374 to 0.08131, saving model to models/mnist\\04-0.0813.hdf5\n",
      "\n",
      "Epoch 00005: val_loss did not improve from 0.08131\n",
      "\n",
      "Epoch 00006: val_loss did not improve from 0.08131\n",
      "\n",
      "Epoch 00007: val_loss did not improve from 0.08131\n",
      "313/313 [==============================] - 1s 2ms/step - loss: 0.0916 - accuracy: 0.9820\n",
      "Epoch 1/2\n",
      "59985/60000 [============================>.] - ETA: 0s - loss: 0.1251 - accuracy: 0.9760\n",
      "Epoch 00001: val_loss did not improve from 0.08131\n",
      "60000/60000 [==============================] - 176s 3ms/step - loss: 0.1251 - accuracy: 0.9760 - val_loss: 0.2023 - val_accuracy: 0.9710\n",
      "Epoch 2/2\n",
      "59989/60000 [============================>.] - ETA: 0s - loss: 0.1122 - accuracy: 0.9803\n",
      "Epoch 00002: val_loss did not improve from 0.08131\n",
      "60000/60000 [==============================] - 233s 4ms/step - loss: 0.1122 - accuracy: 0.9804 - val_loss: 0.2246 - val_accuracy: 0.9737\n",
      "313/313 [==============================] - 1s 2ms/step - loss: 0.2246 - accuracy: 0.9737\n"
     ]
    }
   ],
   "source": [
    "accuracy = []\n",
    "\n",
    "# validation_data 속성으로 각 eposhs마다 x_test, y_test를 통해 손실과 특정 함목을 계산하는 것\n",
    "history = model.fit(x_train, y_train, validation_data=(x_test, y_test), epochs=10, batch_size=10,\n",
    "                   verbose=False, callbacks=[early_stopping_calllback, checkpointer])\n",
    "\n",
    "accuracy.append(model.evaluate(x_test, y_test)[1])\n",
    "\n",
    "model.fit(x_train, y_train, validation_data=(x_test, y_test), epochs=2, batch_size=1,\n",
    "                   verbose=True, callbacks=[early_stopping_calllback, checkpointer])\n",
    "\n",
    "accuracy.append(model.evaluate(x_test, y_test)[1])"
   ]
  },
  {
   "cell_type": "code",
   "execution_count": 10,
   "id": "030c94af",
   "metadata": {},
   "outputs": [
    {
     "data": {
      "text/plain": [
       "[0.9819999933242798, 0.9736999869346619]"
      ]
     },
     "execution_count": 10,
     "metadata": {},
     "output_type": "execute_result"
    }
   ],
   "source": [
    "accuracy"
   ]
  },
  {
   "cell_type": "code",
   "execution_count": 11,
   "id": "13336378",
   "metadata": {},
   "outputs": [
    {
     "data": {
      "text/plain": [
       "{'loss': [0.17942440509796143,\n",
       "  0.08054419606924057,\n",
       "  0.053939711302518845,\n",
       "  0.04028712213039398,\n",
       "  0.03286173939704895,\n",
       "  0.02679189294576645,\n",
       "  0.023565778508782387],\n",
       " 'accuracy': [0.9452333450317383,\n",
       "  0.9747333526611328,\n",
       "  0.982783317565918,\n",
       "  0.9873499870300293,\n",
       "  0.9896833300590515,\n",
       "  0.9916333556175232,\n",
       "  0.9926499724388123],\n",
       " 'val_loss': [0.10769882798194885,\n",
       "  0.08373691141605377,\n",
       "  0.09015540033578873,\n",
       "  0.0813126340508461,\n",
       "  0.08146138489246368,\n",
       "  0.1049262061715126,\n",
       "  0.0916173979640007],\n",
       " 'val_accuracy': [0.9649999737739563,\n",
       "  0.9746999740600586,\n",
       "  0.9753000140190125,\n",
       "  0.9764000177383423,\n",
       "  0.9811000227928162,\n",
       "  0.9771000146865845,\n",
       "  0.9819999933242798]}"
      ]
     },
     "execution_count": 11,
     "metadata": {},
     "output_type": "execute_result"
    }
   ],
   "source": [
    "history.history\n",
    "\n",
    "# loss : 학습 오차\n",
    "# vloss : 테스트 오차"
   ]
  },
  {
   "cell_type": "code",
   "execution_count": 12,
   "id": "3efca745",
   "metadata": {},
   "outputs": [
    {
     "name": "stdout",
     "output_type": "stream",
     "text": [
      "[0.10769882798194885, 0.08373691141605377, 0.09015540033578873, 0.0813126340508461, 0.08146138489246368, 0.1049262061715126, 0.0916173979640007]\n",
      "--------------------------------------------------\n",
      "[0.17942440509796143, 0.08054419606924057, 0.053939711302518845, 0.04028712213039398, 0.03286173939704895, 0.02679189294576645, 0.023565778508782387]\n",
      "--------------------------------------------------\n",
      "[0 1 2 3 4 5 6]\n"
     ]
    }
   ],
   "source": [
    "y_vloss = history.history['val_loss']\n",
    "y_loss = history.history['loss']\n",
    "x_len = np.arange(len(y_loss)) # [0, 1, 2, 3, 4]\n",
    "\n",
    "print(y_vloss)\n",
    "print('-' * 50)\n",
    "print(y_loss)\n",
    "print('-' * 50)\n",
    "print(x_len)"
   ]
  },
  {
   "cell_type": "code",
   "execution_count": 13,
   "id": "06175a29",
   "metadata": {},
   "outputs": [
    {
     "data": {
      "image/png": "[encoded data removed]",
      "text/plain": [
       "<Figure size 432x288 with 1 Axes>"
      ]
     },
     "metadata": {
      "needs_background": "light"
     },
     "output_type": "display_data"
    }
   ],
   "source": [
    "plt.plot(x_len, y_vloss, marker='.', c='red', label='Testset_loss')\n",
    "plt.plot(x_len, y_loss, marker='.', c='blue', label='Trainset_loss')\n",
    "\n",
    "plt.legend(loc='upper right') # loc범례를 표시하는 속성 => lower right, right ...\n",
    "plt.grid()\n",
    "plt.xlabel('epoch')\n",
    "plt.ylabel('loss')\n",
    "plt.show()"
   ]
  }
 ],
 "metadata": {
  "kernelspec": {
   "display_name": "kernel-mypy",
   "language": "python",
   "name": "mypy"
  },
  "language_info": {
   "codemirror_mode": {
    "name": "ipython",
    "version": 3
   },
   "file_extension": ".py",
   "mimetype": "text/x-python",
   "name": "python",
   "nbconvert_exporter": "python",
   "pygments_lexer": "ipython3",
   "version": "3.8.8"
  }
 },
 "nbformat": 4,
 "nbformat_minor": 5
}
