{
 "cells": [
  {
   "cell_type": "code",
   "execution_count": 1,
   "metadata": {},
   "outputs": [],
   "source": [
    "import matplotlib.pyplot as plt # 그래프 그리기\n",
    "import numpy as np"
   ]
  },
  {
   "cell_type": "code",
   "execution_count": 2,
   "metadata": {},
   "outputs": [
    {
     "data": {
      "image/png": "[encoded data removed]",
      "text/plain": [
       "<Figure size 576x288 with 1 Axes>"
      ]
     },
     "metadata": {
      "needs_background": "light"
     },
     "output_type": "display_data"
    }
   ],
   "source": [
    "# 평균 제곱 오차 - 잘못 그어진 선\n",
    "\n",
    "x = [2, 4, 6, 8]\n",
    "y = [81, 93, 91, 97]\n",
    "\n",
    "res = [3 * i + 76 for i in x] # [83.6, 88.2, 92.8, 97.4]\n",
    "\n",
    "plt.figure(figsize=(8,4))\n",
    "plt.scatter(x, y, s=100)\n",
    "plt.plot(x,res, 'r')\n",
    "plt.title('y = 3x + 76', size=20)\n",
    "plt.show()"
   ]
  },
  {
   "cell_type": "code",
   "execution_count": 4,
   "metadata": {},
   "outputs": [
    {
     "name": "stdout",
     "output_type": "stream",
     "text": [
      "x : 2, 실제 y : 81, 예측 y : 82\n",
      "x : 4, 실제 y : 93, 예측 y : 88\n",
      "x : 6, 실제 y : 91, 예측 y : 94\n",
      "x : 8, 실제 y : 97, 예측 y : 100\n",
      "\n",
      "예측값 : [82, 88, 94, 100]\n",
      "실제값 : [81, 93, 91, 97]\n",
      "\n",
      "오차 제곱 평균 : 11.0\n"
     ]
    }
   ],
   "source": [
    "# 평균 제곱 오차 활용하기\n",
    "\n",
    "def predict(x):\n",
    "    # 임의로 정한 함수 => y = ax + b\n",
    "    return fake_a * x + fake_b\n",
    "\n",
    "\n",
    "def mse(y, y_hat):\n",
    "    # 오차 제곱의 평균\n",
    "    return ((y - y_hat) ** 2).mean()\n",
    "\n",
    "\n",
    "def mse_val(y, predict_result):\n",
    "    y = np.array(y) # 실제 값\n",
    "    predict_reuslt = np.array(predict_result) # 예측값\n",
    "    \n",
    "    # 실제값과 예측값 데이터를 통해 오차 제곱의 평균 계산\n",
    "    return mse(y, predict_result)\n",
    "\n",
    "\n",
    "# 임의로 정한 기울기와 y 절편\n",
    "fake_a = 3\n",
    "fake_b = 76\n",
    "\n",
    "predict_result = []\n",
    "\n",
    "x = [2, 4, 6, 8]\n",
    "y = [81, 93, 91, 97]\n",
    "\n",
    "for i in range(len(x)):\n",
    "    predict_y = predict(x[i]) # 임의로 정한 함수에 x[i]를 넣었을 때 결과\n",
    "    predict_result.append(predict_y)\n",
    "    \n",
    "    print(f'x : {x[i]}, 실제 y : {y[i]}, 예측 y : {predict_y}')\n",
    "\n",
    "print()\n",
    "print(f'예측값 : {predict_result}')\n",
    "print(f'실제값 : {y}\\n')\n",
    "\n",
    "print(f'오차 제곱 평균 : {mse_val(predict_result, y)}')"
   ]
  },
  {
   "cell_type": "code",
   "execution_count": 6,
   "metadata": {},
   "outputs": [
    {
     "name": "stdout",
     "output_type": "stream",
     "text": [
      "[ 3  6  9 12 15]\n"
     ]
    }
   ],
   "source": [
    "a = [1,2,3,4,5]\n",
    "b = np.array([3,3,3,3,3])\n",
    "print(b * a)"
   ]
  }
 ],
 "metadata": {
  "kernelspec": {
   "display_name": "Python 3",
   "language": "python",
   "name": "python3"
  },
  "language_info": {
   "codemirror_mode": {
    "name": "ipython",
    "version": 3
   },
   "file_extension": ".py",
   "mimetype": "text/x-python",
   "name": "python",
   "nbconvert_exporter": "python",
   "pygments_lexer": "ipython3",
   "version": "3.8.3"
  }
 },
 "nbformat": 4,
 "nbformat_minor": 4
}
