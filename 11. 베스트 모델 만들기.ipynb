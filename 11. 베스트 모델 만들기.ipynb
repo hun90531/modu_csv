{
 "cells": [
  {
   "cell_type": "code",
   "execution_count": 19,
   "id": "b069a1c5",
   "metadata": {},
   "outputs": [],
   "source": [
    "import pandas as pd\n",
    "import numpy as np\n",
    "\n",
    "import tensorflow as tf\n",
    "from tensorflow.keras.models import Sequential\n",
    "from tensorflow.keras.layers import Dense\n",
    "\n",
    "import matplotlib.pyplot as plt\n",
    "\n",
    "# 모델의 정확도를 기록하면서 동시에 저장하는 것을 도와주는 라이브러리\n",
    "from tensorflow.keras.callbacks import ModelCheckpoint, EarlyStopping\n",
    "\n",
    "import os"
   ]
  },
  {
   "cell_type": "code",
   "execution_count": 20,
   "id": "31687326",
   "metadata": {},
   "outputs": [
    {
     "data": {
      "text/html": [
       "<div>\n",
       "<style scoped>\n",
       "    .dataframe tbody tr th:only-of-type {\n",
       "        vertical-align: middle;\n",
       "    }\n",
       "\n",
       "    .dataframe tbody tr th {\n",
       "        vertical-align: top;\n",
       "    }\n",
       "\n",
       "    .dataframe thead th {\n",
       "        text-align: right;\n",
       "    }\n",
       "</style>\n",
       "<table border=\"1\" class=\"dataframe\">\n",
       "  <thead>\n",
       "    <tr style=\"text-align: right;\">\n",
       "      <th></th>\n",
       "      <th>0</th>\n",
       "      <th>1</th>\n",
       "      <th>2</th>\n",
       "      <th>3</th>\n",
       "      <th>4</th>\n",
       "      <th>5</th>\n",
       "      <th>6</th>\n",
       "      <th>7</th>\n",
       "      <th>8</th>\n",
       "      <th>9</th>\n",
       "      <th>10</th>\n",
       "      <th>11</th>\n",
       "      <th>12</th>\n",
       "    </tr>\n",
       "  </thead>\n",
       "  <tbody>\n",
       "    <tr>\n",
       "      <th>0</th>\n",
       "      <td>7.4</td>\n",
       "      <td>0.70</td>\n",
       "      <td>0.00</td>\n",
       "      <td>1.9</td>\n",
       "      <td>0.076</td>\n",
       "      <td>11.0</td>\n",
       "      <td>34.0</td>\n",
       "      <td>0.9978</td>\n",
       "      <td>3.51</td>\n",
       "      <td>0.56</td>\n",
       "      <td>9.4</td>\n",
       "      <td>5</td>\n",
       "      <td>1</td>\n",
       "    </tr>\n",
       "    <tr>\n",
       "      <th>1</th>\n",
       "      <td>7.8</td>\n",
       "      <td>0.88</td>\n",
       "      <td>0.00</td>\n",
       "      <td>2.6</td>\n",
       "      <td>0.098</td>\n",
       "      <td>25.0</td>\n",
       "      <td>67.0</td>\n",
       "      <td>0.9968</td>\n",
       "      <td>3.20</td>\n",
       "      <td>0.68</td>\n",
       "      <td>9.8</td>\n",
       "      <td>5</td>\n",
       "      <td>1</td>\n",
       "    </tr>\n",
       "    <tr>\n",
       "      <th>2</th>\n",
       "      <td>7.8</td>\n",
       "      <td>0.76</td>\n",
       "      <td>0.04</td>\n",
       "      <td>2.3</td>\n",
       "      <td>0.092</td>\n",
       "      <td>15.0</td>\n",
       "      <td>54.0</td>\n",
       "      <td>0.9970</td>\n",
       "      <td>3.26</td>\n",
       "      <td>0.65</td>\n",
       "      <td>9.8</td>\n",
       "      <td>5</td>\n",
       "      <td>1</td>\n",
       "    </tr>\n",
       "    <tr>\n",
       "      <th>3</th>\n",
       "      <td>11.2</td>\n",
       "      <td>0.28</td>\n",
       "      <td>0.56</td>\n",
       "      <td>1.9</td>\n",
       "      <td>0.075</td>\n",
       "      <td>17.0</td>\n",
       "      <td>60.0</td>\n",
       "      <td>0.9980</td>\n",
       "      <td>3.16</td>\n",
       "      <td>0.58</td>\n",
       "      <td>9.8</td>\n",
       "      <td>6</td>\n",
       "      <td>1</td>\n",
       "    </tr>\n",
       "    <tr>\n",
       "      <th>4</th>\n",
       "      <td>7.4</td>\n",
       "      <td>0.70</td>\n",
       "      <td>0.00</td>\n",
       "      <td>1.9</td>\n",
       "      <td>0.076</td>\n",
       "      <td>11.0</td>\n",
       "      <td>34.0</td>\n",
       "      <td>0.9978</td>\n",
       "      <td>3.51</td>\n",
       "      <td>0.56</td>\n",
       "      <td>9.4</td>\n",
       "      <td>5</td>\n",
       "      <td>1</td>\n",
       "    </tr>\n",
       "  </tbody>\n",
       "</table>\n",
       "</div>"
      ],
      "text/plain": [
       "     0     1     2    3      4     5     6       7     8     9    10  11  12\n",
       "0   7.4  0.70  0.00  1.9  0.076  11.0  34.0  0.9978  3.51  0.56  9.4   5   1\n",
       "1   7.8  0.88  0.00  2.6  0.098  25.0  67.0  0.9968  3.20  0.68  9.8   5   1\n",
       "2   7.8  0.76  0.04  2.3  0.092  15.0  54.0  0.9970  3.26  0.65  9.8   5   1\n",
       "3  11.2  0.28  0.56  1.9  0.075  17.0  60.0  0.9980  3.16  0.58  9.8   6   1\n",
       "4   7.4  0.70  0.00  1.9  0.076  11.0  34.0  0.9978  3.51  0.56  9.4   5   1"
      ]
     },
     "execution_count": 20,
     "metadata": {},
     "output_type": "execute_result"
    }
   ],
   "source": [
    "np.random.seed(3)\n",
    "tf.random.set_seed(3)\n",
    "\n",
    "# 칼럼이 0, 1, 2, 3, 4, 5 ... 57, 58, 59, 60\n",
    "df_pre = pd.read_csv('deeplearning/dataset/wine.csv', header=None)\n",
    "df_pre.head()"
   ]
  },
  {
   "cell_type": "code",
   "execution_count": 21,
   "id": "b308608f",
   "metadata": {
    "scrolled": true
   },
   "outputs": [
    {
     "data": {
      "text/html": [
       "<div>\n",
       "<style scoped>\n",
       "    .dataframe tbody tr th:only-of-type {\n",
       "        vertical-align: middle;\n",
       "    }\n",
       "\n",
       "    .dataframe tbody tr th {\n",
       "        vertical-align: top;\n",
       "    }\n",
       "\n",
       "    .dataframe thead th {\n",
       "        text-align: right;\n",
       "    }\n",
       "</style>\n",
       "<table border=\"1\" class=\"dataframe\">\n",
       "  <thead>\n",
       "    <tr style=\"text-align: right;\">\n",
       "      <th></th>\n",
       "      <th>0</th>\n",
       "      <th>1</th>\n",
       "      <th>2</th>\n",
       "      <th>3</th>\n",
       "      <th>4</th>\n",
       "      <th>5</th>\n",
       "      <th>6</th>\n",
       "      <th>7</th>\n",
       "      <th>8</th>\n",
       "      <th>9</th>\n",
       "      <th>10</th>\n",
       "      <th>11</th>\n",
       "      <th>12</th>\n",
       "    </tr>\n",
       "  </thead>\n",
       "  <tbody>\n",
       "    <tr>\n",
       "      <th>6245</th>\n",
       "      <td>5.9</td>\n",
       "      <td>0.180</td>\n",
       "      <td>0.28</td>\n",
       "      <td>1.0</td>\n",
       "      <td>0.037</td>\n",
       "      <td>24.0</td>\n",
       "      <td>88.0</td>\n",
       "      <td>0.99094</td>\n",
       "      <td>3.29</td>\n",
       "      <td>0.55</td>\n",
       "      <td>10.65</td>\n",
       "      <td>7</td>\n",
       "      <td>0</td>\n",
       "    </tr>\n",
       "    <tr>\n",
       "      <th>486</th>\n",
       "      <td>10.2</td>\n",
       "      <td>0.670</td>\n",
       "      <td>0.39</td>\n",
       "      <td>1.9</td>\n",
       "      <td>0.054</td>\n",
       "      <td>6.0</td>\n",
       "      <td>17.0</td>\n",
       "      <td>0.99760</td>\n",
       "      <td>3.17</td>\n",
       "      <td>0.47</td>\n",
       "      <td>10.00</td>\n",
       "      <td>5</td>\n",
       "      <td>1</td>\n",
       "    </tr>\n",
       "    <tr>\n",
       "      <th>273</th>\n",
       "      <td>8.4</td>\n",
       "      <td>0.715</td>\n",
       "      <td>0.20</td>\n",
       "      <td>2.4</td>\n",
       "      <td>0.076</td>\n",
       "      <td>10.0</td>\n",
       "      <td>38.0</td>\n",
       "      <td>0.99735</td>\n",
       "      <td>3.31</td>\n",
       "      <td>0.64</td>\n",
       "      <td>9.40</td>\n",
       "      <td>5</td>\n",
       "      <td>1</td>\n",
       "    </tr>\n",
       "    <tr>\n",
       "      <th>1993</th>\n",
       "      <td>6.8</td>\n",
       "      <td>0.370</td>\n",
       "      <td>0.51</td>\n",
       "      <td>11.8</td>\n",
       "      <td>0.044</td>\n",
       "      <td>62.0</td>\n",
       "      <td>163.0</td>\n",
       "      <td>0.99760</td>\n",
       "      <td>3.19</td>\n",
       "      <td>0.44</td>\n",
       "      <td>8.80</td>\n",
       "      <td>5</td>\n",
       "      <td>0</td>\n",
       "    </tr>\n",
       "    <tr>\n",
       "      <th>885</th>\n",
       "      <td>8.9</td>\n",
       "      <td>0.750</td>\n",
       "      <td>0.14</td>\n",
       "      <td>2.5</td>\n",
       "      <td>0.086</td>\n",
       "      <td>9.0</td>\n",
       "      <td>30.0</td>\n",
       "      <td>0.99824</td>\n",
       "      <td>3.34</td>\n",
       "      <td>0.64</td>\n",
       "      <td>10.50</td>\n",
       "      <td>5</td>\n",
       "      <td>1</td>\n",
       "    </tr>\n",
       "    <tr>\n",
       "      <th>...</th>\n",
       "      <td>...</td>\n",
       "      <td>...</td>\n",
       "      <td>...</td>\n",
       "      <td>...</td>\n",
       "      <td>...</td>\n",
       "      <td>...</td>\n",
       "      <td>...</td>\n",
       "      <td>...</td>\n",
       "      <td>...</td>\n",
       "      <td>...</td>\n",
       "      <td>...</td>\n",
       "      <td>...</td>\n",
       "      <td>...</td>\n",
       "    </tr>\n",
       "    <tr>\n",
       "      <th>968</th>\n",
       "      <td>9.0</td>\n",
       "      <td>0.400</td>\n",
       "      <td>0.43</td>\n",
       "      <td>2.4</td>\n",
       "      <td>0.068</td>\n",
       "      <td>29.0</td>\n",
       "      <td>46.0</td>\n",
       "      <td>0.99430</td>\n",
       "      <td>3.20</td>\n",
       "      <td>0.60</td>\n",
       "      <td>12.20</td>\n",
       "      <td>6</td>\n",
       "      <td>1</td>\n",
       "    </tr>\n",
       "    <tr>\n",
       "      <th>1667</th>\n",
       "      <td>6.7</td>\n",
       "      <td>0.230</td>\n",
       "      <td>0.31</td>\n",
       "      <td>2.1</td>\n",
       "      <td>0.046</td>\n",
       "      <td>30.0</td>\n",
       "      <td>96.0</td>\n",
       "      <td>0.99260</td>\n",
       "      <td>3.33</td>\n",
       "      <td>0.64</td>\n",
       "      <td>10.70</td>\n",
       "      <td>8</td>\n",
       "      <td>0</td>\n",
       "    </tr>\n",
       "    <tr>\n",
       "      <th>3321</th>\n",
       "      <td>7.5</td>\n",
       "      <td>0.400</td>\n",
       "      <td>1.00</td>\n",
       "      <td>19.5</td>\n",
       "      <td>0.041</td>\n",
       "      <td>33.0</td>\n",
       "      <td>148.0</td>\n",
       "      <td>0.99770</td>\n",
       "      <td>3.24</td>\n",
       "      <td>0.38</td>\n",
       "      <td>12.00</td>\n",
       "      <td>6</td>\n",
       "      <td>0</td>\n",
       "    </tr>\n",
       "    <tr>\n",
       "      <th>1688</th>\n",
       "      <td>7.1</td>\n",
       "      <td>0.440</td>\n",
       "      <td>0.62</td>\n",
       "      <td>11.8</td>\n",
       "      <td>0.044</td>\n",
       "      <td>52.0</td>\n",
       "      <td>152.0</td>\n",
       "      <td>0.99750</td>\n",
       "      <td>3.12</td>\n",
       "      <td>0.46</td>\n",
       "      <td>8.70</td>\n",
       "      <td>6</td>\n",
       "      <td>0</td>\n",
       "    </tr>\n",
       "    <tr>\n",
       "      <th>5994</th>\n",
       "      <td>6.6</td>\n",
       "      <td>0.240</td>\n",
       "      <td>0.22</td>\n",
       "      <td>12.3</td>\n",
       "      <td>0.051</td>\n",
       "      <td>35.0</td>\n",
       "      <td>146.0</td>\n",
       "      <td>0.99676</td>\n",
       "      <td>3.10</td>\n",
       "      <td>0.67</td>\n",
       "      <td>9.40</td>\n",
       "      <td>5</td>\n",
       "      <td>0</td>\n",
       "    </tr>\n",
       "  </tbody>\n",
       "</table>\n",
       "<p>6497 rows × 13 columns</p>\n",
       "</div>"
      ],
      "text/plain": [
       "        0      1     2     3      4     5      6        7     8     9      10  \\\n",
       "6245   5.9  0.180  0.28   1.0  0.037  24.0   88.0  0.99094  3.29  0.55  10.65   \n",
       "486   10.2  0.670  0.39   1.9  0.054   6.0   17.0  0.99760  3.17  0.47  10.00   \n",
       "273    8.4  0.715  0.20   2.4  0.076  10.0   38.0  0.99735  3.31  0.64   9.40   \n",
       "1993   6.8  0.370  0.51  11.8  0.044  62.0  163.0  0.99760  3.19  0.44   8.80   \n",
       "885    8.9  0.750  0.14   2.5  0.086   9.0   30.0  0.99824  3.34  0.64  10.50   \n",
       "...    ...    ...   ...   ...    ...   ...    ...      ...   ...   ...    ...   \n",
       "968    9.0  0.400  0.43   2.4  0.068  29.0   46.0  0.99430  3.20  0.60  12.20   \n",
       "1667   6.7  0.230  0.31   2.1  0.046  30.0   96.0  0.99260  3.33  0.64  10.70   \n",
       "3321   7.5  0.400  1.00  19.5  0.041  33.0  148.0  0.99770  3.24  0.38  12.00   \n",
       "1688   7.1  0.440  0.62  11.8  0.044  52.0  152.0  0.99750  3.12  0.46   8.70   \n",
       "5994   6.6  0.240  0.22  12.3  0.051  35.0  146.0  0.99676  3.10  0.67   9.40   \n",
       "\n",
       "      11  12  \n",
       "6245   7   0  \n",
       "486    5   1  \n",
       "273    5   1  \n",
       "1993   5   0  \n",
       "885    5   1  \n",
       "...   ..  ..  \n",
       "968    6   1  \n",
       "1667   8   0  \n",
       "3321   6   0  \n",
       "1688   6   0  \n",
       "5994   5   0  \n",
       "\n",
       "[6497 rows x 13 columns]"
      ]
     },
     "execution_count": 21,
     "metadata": {},
     "output_type": "execute_result"
    }
   ],
   "source": [
    "# sample() : 원본 데이터에서 정해진 비율만큼 랜덤으로 뽑아오는 함수\n",
    "# frac = 1 => 원본 데이터의 100%를 불러오는 것\n",
    "# frac이 0.5라면 원본 데이터 중 50%만 랜덤으로 가져온다.\n",
    "\n",
    "df = df_pre.sample(frac=1)\n",
    "df"
   ]
  },
  {
   "cell_type": "code",
   "execution_count": 22,
   "id": "a9e889b8",
   "metadata": {},
   "outputs": [
    {
     "data": {
      "text/plain": [
       "array([[ 5.9  ,  0.18 ,  0.28 , ..., 10.65 ,  7.   ,  0.   ],\n",
       "       [10.2  ,  0.67 ,  0.39 , ..., 10.   ,  5.   ,  1.   ],\n",
       "       [ 8.4  ,  0.715,  0.2  , ...,  9.4  ,  5.   ,  1.   ],\n",
       "       ...,\n",
       "       [ 7.5  ,  0.4  ,  1.   , ..., 12.   ,  6.   ,  0.   ],\n",
       "       [ 7.1  ,  0.44 ,  0.62 , ...,  8.7  ,  6.   ,  0.   ],\n",
       "       [ 6.6  ,  0.24 ,  0.22 , ...,  9.4  ,  5.   ,  0.   ]])"
      ]
     },
     "execution_count": 22,
     "metadata": {},
     "output_type": "execute_result"
    }
   ],
   "source": [
    "dataset = df.values\n",
    "dataset"
   ]
  },
  {
   "cell_type": "code",
   "execution_count": 23,
   "id": "89c82dce",
   "metadata": {},
   "outputs": [],
   "source": [
    "x = dataset[:, :12]\n",
    "y = dataset[:, 12]"
   ]
  },
  {
   "cell_type": "code",
   "execution_count": 24,
   "id": "87a19ee1",
   "metadata": {},
   "outputs": [],
   "source": [
    "model = Sequential()\n",
    "model.add(Dense(30, input_dim = 12, activation = 'relu'))\n",
    "model.add(Dense(12, activation = 'relu'))\n",
    "model.add(Dense(8, activation = 'relu'))\n",
    "model.add(Dense(1, activation = 'sigmoid'))\n",
    "\n",
    "model.compile(loss = 'binary_crossentropy',\n",
    "             optimizer='adam',\n",
    "             metrics = ['accuracy']\n",
    "             )"
   ]
  },
  {
   "cell_type": "code",
   "execution_count": 25,
   "id": "cceac339",
   "metadata": {},
   "outputs": [],
   "source": [
    "MODEL_DIR = 'models/wine/'\n",
    "\n",
    "# 해당 경로에 폴더가 있는지 확인하고 없아면 폴더를 만든다.\n",
    "if not os.path.exists(MODEL_DIR):\n",
    "    os.mkdir(MODEL_DIR)\n",
    "    \n",
    "modelpath = 'models/wine/{epoch:02d}-{val_loss:.4f}.hdf5'"
   ]
  },
  {
   "cell_type": "code",
   "execution_count": 26,
   "id": "c9dd64bb",
   "metadata": {},
   "outputs": [],
   "source": [
    "# 학습 정확도는 acc, 테스트셋 정확도는 val_acc, 학습셋 오차는 loss로 기록되고,\n",
    "# 테스트 오차는 val_loss 라는 이름으로 기록된다.\n",
    "# save_best_only=True : 모델이 앞서 저장한 모델보다 나아졌을 때만 저장하는 옵션\n",
    "checkpointer = ModelCheckpoint(filepath=modelpath, monitor='val_loss', verbose=True, save_best_only=True)\n",
    "\n",
    "# patience 속성은 n회의 epoch동안 성능이 향상되지 않는다면 종료\n",
    "early_stopping_callback = EarlyStopping(monitor='val_loss', patience=100)"
   ]
  },
  {
   "cell_type": "code",
   "execution_count": null,
   "id": "28d3bbef",
   "metadata": {},
   "outputs": [],
   "source": [
    "#20%의 데이터만 테스트셋으로 사용하고 나머지는 학습셋으로 사용 \n",
    "history = model.fit(x, y, epochs=10, validation_split=0.2, batch_size=1, \n",
    "                    verbose = False, callbacks=[early_stopping_callback, checkpointer])"
   ]
  },
  {
   "cell_type": "code",
   "execution_count": 27,
   "id": "04fa4dea",
   "metadata": {},
   "outputs": [
    {
     "name": "stdout",
     "output_type": "stream",
     "text": [
      "204/204 [==============================] - 1s 5ms/step - loss: 1.8256 - accuracy: 0.7539\n",
      "Accuracy : 0.7539\n"
     ]
    }
   ],
   "source": [
    "print('Accuracy : %.4f' % model.evaluate(x, y)[1])"
   ]
  },
  {
   "cell_type": "code",
   "execution_count": 36,
   "id": "738e0524",
   "metadata": {},
   "outputs": [
    {
     "name": "stdout",
     "output_type": "stream",
     "text": [
      "[3.2106707e-06, 0.019732833, 0.0012161136, 8.160784e-08, 0.004237473, 9.775006e-08, 1.0680961e-06, 9.314759e-05, 5.3531903e-07, 7.981929e-09]\n",
      "[0, 1, 1, 0, 1, 0, 1, 1, 0, 0]\n"
     ]
    }
   ],
   "source": [
    "data = model.predict(x)\n",
    "preidct = []\n",
    "\n",
    "\n",
    "for i in range(len(data)):\n",
    "    preidct = preidct + [data[i][0]]\n",
    "    #preidct = preidct + [1 if data[i][0] >= 0.5 else 0]\n",
    "\n",
    "print(preidct[:10]) # 예측\n",
    "print(list(y[:10].astype(int))) # 실제 결과"
   ]
  },
  {
   "cell_type": "code",
   "execution_count": 29,
   "id": "d402ae74",
   "metadata": {},
   "outputs": [],
   "source": [
    "##### 그래프로 표현하기 #####"
   ]
  },
  {
   "cell_type": "code",
   "execution_count": 30,
   "id": "5d7b6b81",
   "metadata": {
    "scrolled": true
   },
   "outputs": [
    {
     "data": {
      "text/plain": [
       "{'loss': [0.24710413813591003,\n",
       "  0.17932765185832977,\n",
       "  0.14478132128715515,\n",
       "  0.11828992515802383,\n",
       "  0.10584989935159683,\n",
       "  0.1010434478521347,\n",
       "  0.09722018986940384,\n",
       "  0.0893479734659195,\n",
       "  0.08451586961746216,\n",
       "  0.0850638821721077],\n",
       " 'accuracy': [0.9145660996437073,\n",
       "  0.9366942644119263,\n",
       "  0.9492014646530151,\n",
       "  0.9613238573074341,\n",
       "  0.9636328816413879,\n",
       "  0.9661343097686768,\n",
       "  0.9690206050872803,\n",
       "  0.9715220332145691,\n",
       "  0.9749855399131775,\n",
       "  0.9711371660232544],\n",
       " 'val_loss': [0.17529840767383575,\n",
       "  0.18854138255119324,\n",
       "  0.10892749577760696,\n",
       "  0.1247614324092865,\n",
       "  0.11058460175991058,\n",
       "  0.07269487529993057,\n",
       "  0.061138879507780075,\n",
       "  0.16678637266159058,\n",
       "  0.08936639130115509,\n",
       "  0.06684534251689911],\n",
       " 'val_accuracy': [0.942307710647583,\n",
       "  0.9430769085884094,\n",
       "  0.9592307806015015,\n",
       "  0.9561538696289062,\n",
       "  0.9592307806015015,\n",
       "  0.9738461375236511,\n",
       "  0.9776923060417175,\n",
       "  0.9453846216201782,\n",
       "  0.9738461375236511,\n",
       "  0.9776923060417175]}"
      ]
     },
     "execution_count": 30,
     "metadata": {},
     "output_type": "execute_result"
    }
   ],
   "source": [
    "history.history"
   ]
  },
  {
   "cell_type": "code",
   "execution_count": 31,
   "id": "3031f13d",
   "metadata": {},
   "outputs": [
    {
     "data": {
      "text/plain": [
       "array([0, 1, 2, 3, 4, 5, 6, 7, 8, 9])"
      ]
     },
     "execution_count": 31,
     "metadata": {},
     "output_type": "execute_result"
    }
   ],
   "source": [
    "y_vloss = history.history['val_loss']\n",
    "y_acc = history.history['accuracy']\n",
    "x_len = np.arange(len(y_acc))\n",
    "\n",
    "x_len"
   ]
  },
  {
   "cell_type": "code",
   "execution_count": 32,
   "id": "2497225f",
   "metadata": {
    "scrolled": true
   },
   "outputs": [
    {
     "data": {
      "image/png": "[encoded data removed]",
      "text/plain": [
       "<Figure size 432x288 with 1 Axes>"
      ]
     },
     "metadata": {
      "needs_background": "light"
     },
     "output_type": "display_data"
    }
   ],
   "source": [
    "# 테스트 오차와 정확도에 대한 그래프\n",
    "\n",
    "plt.plot(x_len, y_vloss, 'o', c='red', markersize='3')\n",
    "plt.plot(x_len, y_acc, 'o', c='blue', markersize='3')\n",
    "\n",
    "plt.show()"
   ]
  },
  {
   "cell_type": "code",
   "execution_count": 33,
   "id": "11af20b8",
   "metadata": {},
   "outputs": [],
   "source": [
    "##### 파일로 만들기 #####"
   ]
  },
  {
   "cell_type": "code",
   "execution_count": 34,
   "id": "48def59c",
   "metadata": {
    "scrolled": true
   },
   "outputs": [
    {
     "name": "stdout",
     "output_type": "stream",
     "text": [
      "[0.17529840767383575, 0.18854138255119324, 0.10892749577760696, 0.1247614324092865, 0.11058460175991058, 0.07269487529993057, 0.061138879507780075, 0.16678637266159058, 0.08936639130115509, 0.06684534251689911]\n",
      "==================================================\n",
      "[0.9145660996437073, 0.9366942644119263, 0.9492014646530151, 0.9613238573074341, 0.9636328816413879, 0.9661343097686768, 0.9690206050872803, 0.9715220332145691, 0.9749855399131775, 0.9711371660232544]\n"
     ]
    }
   ],
   "source": [
    "print(y_vloss)\n",
    "print('=' * 50)\n",
    "print(y_acc)"
   ]
  },
  {
   "cell_type": "code",
   "execution_count": 37,
   "id": "faeadd5c",
   "metadata": {},
   "outputs": [],
   "source": [
    "f = open(\"files/result_wine.txt\", 'w')\n",
    "\n",
    "for i in range(1, len(y_vloss)):\n",
    "    data = '테스트셋 오차 : %.3f\\t정확도 : %.3f\\n' % (y_vloss[i], y_acc[i])\n",
    "    f.write(data)\n",
    "f.close()"
   ]
  }
 ],
 "metadata": {
  "kernelspec": {
   "display_name": "kernel-mypy",
   "language": "python",
   "name": "mypy"
  },
  "language_info": {
   "codemirror_mode": {
    "name": "ipython",
    "version": 3
   },
   "file_extension": ".py",
   "mimetype": "text/x-python",
   "name": "python",
   "nbconvert_exporter": "python",
   "pygments_lexer": "ipython3",
   "version": "3.8.8"
  }
 },
 "nbformat": 4,
 "nbformat_minor": 5
}
