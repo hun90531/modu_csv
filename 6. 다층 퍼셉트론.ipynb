{
 "cells": [
  {
   "cell_type": "code",
   "execution_count": 3,
   "metadata": {},
   "outputs": [],
   "source": [
    "import pandas as pd\n",
    "import matplotlib.pyplot as plt # 그래프 그리기\n",
    "from matplotlib import rc # 한글폰트 사용\n",
    "import matplotlib.font_manager as fm # 폰트 가져오기\n",
    "import numpy as np\n",
    "\n",
    "font_name = fm.FontProperties(fname=\"c:/Windows/Fonts/malgun.ttf\").get_name()\n",
    "rc('font', family=font_name)"
   ]
  },
  {
   "cell_type": "code",
   "execution_count": 6,
   "metadata": {},
   "outputs": [
    {
     "data": {
      "image/png": "[encoded data removed]",
      "text/plain": [
       "<Figure size 432x288 with 1 Axes>"
      ]
     },
     "metadata": {
      "needs_background": "light"
     },
     "output_type": "display_data"
    },
    {
     "data": {
      "image/png": "[encoded data removed]",
      "text/plain": [
       "<Figure size 432x288 with 1 Axes>"
      ]
     },
     "metadata": {
      "needs_background": "light"
     },
     "output_type": "display_data"
    }
   ],
   "source": [
    "x = [i for i in range(-1, 11)]\n",
    "\n",
    "y_and = [-i + 11 for i in x]\n",
    "y_or = [-i + 5 for i in x]\n",
    "\n",
    "#plt.scatter(x[10], y[10], s=100, color='black')\n",
    "#plt.annotate('B', (x[10], y[10]), fontsize=25)\n",
    "\n",
    "plt.plot(x, y_and, color = 'black')\n",
    "plt.scatter([7],[7], s = 100, color='blue')\n",
    "plt.scatter([0, 0, 7,],[0, 7, 0], s = 100, color='red')\n",
    "\n",
    "plt.title('AND', size = 20)\n",
    "plt.xlim(-1, 10)\n",
    "plt.ylim(-1, 10)\n",
    "plt.show()\n",
    "\n",
    "\n",
    "plt.plot(x, y_or, color = 'black')\n",
    "plt.scatter([0, 7, 7],[7, 7, 0], s = 100, color='blue')\n",
    "plt.scatter([0],[0], s = 100, color='red')\n",
    "\n",
    "plt.title('OR', size = 20)\n",
    "plt.xlim(-1, 10)\n",
    "plt.ylim(-1, 10)\n",
    "plt.show()"
   ]
  },
  {
   "cell_type": "code",
   "execution_count": 7,
   "metadata": {},
   "outputs": [
    {
     "name": "stdout",
     "output_type": "stream",
     "text": [
      "입력 값 : [0, 0], 출력 값 : 0\n",
      "입력 값 : [1, 0], 출력 값 : 1\n",
      "입력 값 : [0, 1], 출력 값 : 1\n",
      "입력 값 : [1, 1], 출력 값 : 0\n"
     ]
    }
   ],
   "source": [
    "def MLP(x, w, b):\n",
    "    y = np.sum(w * x) + b\n",
    "    if y <= 0:\n",
    "        return 0\n",
    "    else:\n",
    "        return 1\n",
    "\n",
    "    \n",
    "# NAND 게이트, get n1\n",
    "def NAND(x1, x2):\n",
    "    return MLP(np.array([x1, x2]), w11, b1)\n",
    "\n",
    "\n",
    "# OR 게이트, get n2\n",
    "def OR(x1,  x2):\n",
    "    return MLP(np.array([x1, x2]), w12, b3)\n",
    "\n",
    "\n",
    "def AND(x1, x2):\n",
    "    return MLP(np.array([x1, x2]), w2, b3)\n",
    "\n",
    "\n",
    "def XOR(x1, x2):\n",
    "    return AND(NAND(x1, x2), OR(x1, x2))\n",
    "\n",
    "w11 = np.array([-2, -2])\n",
    "w12 = np.array([2, 2])\n",
    "w2 = np.array([1, 1])\n",
    "\n",
    "b1 = 3\n",
    "b2 = -1\n",
    "b3 = -1\n",
    "\n",
    "x = [\n",
    "    [0, 0],\n",
    "    [1, 0],\n",
    "    [0, 1],\n",
    "    [1, 1]\n",
    "]\n",
    "\n",
    "for i in x:\n",
    "    y = XOR(i[0], i[1])\n",
    "    print(f'입력 값 : {i}, 출력 값 : {y}')"
   ]
  },
  {
   "cell_type": "code",
   "execution_count": 9,
   "metadata": {},
   "outputs": [
    {
     "name": "stdout",
     "output_type": "stream",
     "text": [
      "[ 2  4  6  8 10]\n",
      "[1, 2, 3, 4, 5, 1, 2, 3, 4, 5]\n"
     ]
    }
   ],
   "source": [
    "a = np.array([1,2,3,4,5])\n",
    "b = np.array([1,2,3,4,5])\n",
    "\n",
    "print(a + b)\n",
    "\n",
    "c = [1,2,3,4,5]\n",
    "d = [1,2,3,4,5]\n",
    "\n",
    "print(c + d)"
   ]
  }
 ],
 "metadata": {
  "kernelspec": {
   "display_name": "Python 3",
   "language": "python",
   "name": "python3"
  },
  "language_info": {
   "codemirror_mode": {
    "name": "ipython",
    "version": 3
   },
   "file_extension": ".py",
   "mimetype": "text/x-python",
   "name": "python",
   "nbconvert_exporter": "python",
   "pygments_lexer": "ipython3",
   "version": "3.8.3"
  }
 },
 "nbformat": 4,
 "nbformat_minor": 4
}
