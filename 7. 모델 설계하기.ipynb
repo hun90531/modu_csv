{
 "cells": [
  {
   "cell_type": "code",
   "execution_count": 2,
   "id": "be665a42",
   "metadata": {},
   "outputs": [],
   "source": [
    "from tensorflow.keras.models import Sequential\n",
    "from tensorflow.keras.layers import Dense\n",
    "import numpy as np\n",
    "import tensorflow as tf\n",
    "import pandas as pd"
   ]
  },
  {
   "cell_type": "code",
   "execution_count": 3,
   "id": "d73602c7",
   "metadata": {},
   "outputs": [
    {
     "data": {
      "text/plain": [
       "array([[293.  ,   1.  ,   3.8 , ...,   0.  ,  62.  ,   0.  ],\n",
       "       [  1.  ,   2.  ,   2.88, ...,   0.  ,  60.  ,   0.  ],\n",
       "       [  8.  ,   2.  ,   3.19, ...,   0.  ,  66.  ,   1.  ],\n",
       "       ...,\n",
       "       [406.  ,   6.  ,   5.36, ...,   0.  ,  62.  ,   0.  ],\n",
       "       [ 25.  ,   8.  ,   4.32, ...,   0.  ,  58.  ,   1.  ],\n",
       "       [447.  ,   8.  ,   5.2 , ...,   0.  ,  49.  ,   0.  ]])"
      ]
     },
     "execution_count": 3,
     "metadata": {},
     "output_type": "execute_result"
    }
   ],
   "source": [
    "# np.random.random() 함수 결과로 항상 값은 랜덤 겂을 가져온다.\n",
    "# seed 값을 설정한다는 것은 랜덤 테이블 중에서 몇 번째 데이터를 불러와 쓸지 정하는 것\n",
    "np.random.seed(3)\n",
    "tf.random.set_seed(3)\n",
    "\n",
    "# 데이터 불러오기\n",
    "data_set = np.loadtxt(\"deeplearning/dataset/ThoraricSurgery.csv\", delimiter=',')\n",
    "\n",
    "# 독립변수는 x, 마지막 결과(종속변수)는 y에 저장\n",
    "x = data_set[:, :17]\n",
    "y = data_set[:,17]\n",
    "\n",
    "data_set"
   ]
  },
  {
   "cell_type": "code",
   "execution_count": 4,
   "id": "3110ed49",
   "metadata": {},
   "outputs": [],
   "source": [
    "# 모델 만들기\n",
    "\n",
    "model = Sequential()\n",
    "\n",
    "# 새로운 층 생성\n",
    "# 맨 마지막 층은 출력층을 의미하고 나머지는 모두 은닉층이 된다.\n",
    "\n",
    "# Dense 함수를 통해 각 층의 구조 결정\n",
    "\n",
    "# 층 내부에 30개의 노드를 만들어 17개의 입력을 받는다.\n",
    "# 활성화 함수를 통해 다음 층으로 전송되는데, 이 때 활성화 함수로 relu 함수를 사용한다.\n",
    "model.add(Dense(30, input_dim=17, activation='relu'))\n",
    "\n",
    "# 출력층이므로 노드는 1개이고 시그모이드 함수를 활성화 함수로 사용한다.\n",
    "model.add(Dense(1, activation='sigmoid'))"
   ]
  },
  {
   "cell_type": "code",
   "execution_count": 5,
   "id": "3ebf43b0",
   "metadata": {},
   "outputs": [
    {
     "name": "stdout",
     "output_type": "stream",
     "text": [
      "Epoch 1/10\n",
      "47/47 [==============================] - 0s 815us/step - loss: 0.0763 - accuracy: 0.9106\n",
      "Epoch 2/10\n",
      "47/47 [==============================] - 0s 976us/step - loss: 0.0746 - accuracy: 0.9191\n",
      "Epoch 3/10\n",
      "47/47 [==============================] - 0s 573us/step - loss: 0.0800 - accuracy: 0.9085\n",
      "Epoch 4/10\n",
      "47/47 [==============================] - 0s 806us/step - loss: 0.0813 - accuracy: 0.9043\n",
      "Epoch 5/10\n",
      "47/47 [==============================] - 0s 997us/step - loss: 0.0767 - accuracy: 0.9191\n",
      "Epoch 6/10\n",
      "47/47 [==============================] - 0s 955us/step - loss: 0.0741 - accuracy: 0.9213\n",
      "Epoch 7/10\n",
      "47/47 [==============================] - 0s 764us/step - loss: 0.0775 - accuracy: 0.9043\n",
      "Epoch 8/10\n",
      "47/47 [==============================] - 0s 891us/step - loss: 0.0838 - accuracy: 0.8979\n",
      "Epoch 9/10\n",
      "47/47 [==============================] - 0s 728us/step - loss: 0.0806 - accuracy: 0.9106\n",
      "Epoch 10/10\n",
      "47/47 [==============================] - 0s 814us/step - loss: 0.0766 - accuracy: 0.9170\n"
     ]
    },
    {
     "data": {
      "text/plain": [
       "<tensorflow.python.keras.callbacks.History at 0x20016ab60d0>"
      ]
     },
     "execution_count": 5,
     "metadata": {},
     "output_type": "execute_result"
    }
   ],
   "source": [
    "# 만들어진 모델을 컴퓨터가 알아들을 수 있도록 컴파일\n",
    "# loss는 우리가 사용할 오차 함수를 의미, mean_squared_error는 평균 제곱 오차 함수를 사용한다.\n",
    "# metrics=['accuracy']는 정확도를 측정하기 위해 사용\n",
    "\n",
    "model.compile(loss='mean_squared_error', optimizer='adam', metrics=['accuracy'])\n",
    "#model.compile(loss='binary_crossentropy', optimizer='adam', metrics=['accuracy'])\n",
    "\n",
    "\n",
    "# batch_size는 한 번에 넘겨주는 데이터의 수를 의미 (10개씩 끊어서 집어넣는 것)\n",
    "# verbose=0 옵션은 화면에 결과가 출력되지 않도로 설정\n",
    "model.fit(x, y, epochs=1000, batch_size=10, verbose=0)\n",
    "model.fit(x, y, epochs=10, batch_size=10)"
   ]
  },
  {
   "cell_type": "code",
   "execution_count": 7,
   "id": "2c8cf6db",
   "metadata": {},
   "outputs": [
    {
     "name": "stdout",
     "output_type": "stream",
     "text": [
      "[0, 0, 1, 1, 0, 0, 0, 0, 0, 0]\n",
      "[0. 0. 1. 1. 0. 0. 0. 1. 0. 0.]\n"
     ]
    }
   ],
   "source": [
    "# 모델 사용하기\n",
    "\n",
    "data = model.predict(x[:10])\n",
    "preidct = []\n",
    "\n",
    "for i in range(len(data)):\n",
    "    preidct = preidct + [1 if data[i][0] >= 0.5 else 0]\n",
    "\n",
    "print(preidct) # 예측\n",
    "print(y[:10]) # 실제 결과"
   ]
  }
 ],
 "metadata": {
  "kernelspec": {
   "display_name": "kernel-mypy",
   "language": "python",
   "name": "mypy"
  },
  "language_info": {
   "codemirror_mode": {
    "name": "ipython",
    "version": 3
   },
   "file_extension": ".py",
   "mimetype": "text/x-python",
   "name": "python",
   "nbconvert_exporter": "python",
   "pygments_lexer": "ipython3",
   "version": "3.8.8"
  }
 },
 "nbformat": 4,
 "nbformat_minor": 5
}
